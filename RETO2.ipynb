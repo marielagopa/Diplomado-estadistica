{
 "cells": [
  {
   "cell_type": "markdown",
   "metadata": {},
   "source": [
    "# ¿CUÁNTAS VECES SE REQUIERE PRESENTAR EL EXAMEN ENARM PARA OBTENER UN PROBABILIDAD DE ÉXITO MAYOR AL 50%?"
   ]
  },
  {
   "cell_type": "markdown",
   "metadata": {},
   "source": [
    "De acuerdo con un análisis realizado, se determinó que la probabilidad de aprobar el examen ENARM es de 0.216, por lo cual la probabilidad de reprobarlo es de 0.784. Con base en lo anterior, se pretende determinar las veces que se tiene que presentar el examen para obtener una probabilidad mayor al 50% de aprobar dicho examen. "
   ]
  },
  {
   "attachments": {},
   "cell_type": "markdown",
   "metadata": {},
   "source": [
    "<img src=\"https://i.imgur.com/yPaDb2r.jpg\" width=\"800\">"
   ]
  },
  {
   "cell_type": "markdown",
   "metadata": {},
   "source": [
    "De acuerdo al esquema anterior, se procede a multiplicar la probabilidad de reprobar el examen ENARM después de 2, 3, 4 y 5 intentos.\n",
    "Los resultados se muestran a continuación:"
   ]
  },
  {
   "cell_type": "markdown",
   "metadata": {},
   "source": [
    "La probabilidad de reprobar después de un segundo intento es:"
   ]
  },
  {
   "cell_type": "code",
   "execution_count": 8,
   "metadata": {},
   "outputs": [
    {
     "data": {
      "text/html": [
       "0.614656"
      ],
      "text/latex": [
       "0.614656"
      ],
      "text/markdown": [
       "0.614656"
      ],
      "text/plain": [
       "[1] 0.614656"
      ]
     },
     "metadata": {},
     "output_type": "display_data"
    }
   ],
   "source": [
    "0.784*0.784"
   ]
  },
  {
   "cell_type": "markdown",
   "metadata": {},
   "source": [
    "La probabilidad de reprobar después de 3 intentos es:"
   ]
  },
  {
   "cell_type": "code",
   "execution_count": 9,
   "metadata": {},
   "outputs": [
    {
     "data": {
      "text/html": [
       "0.481890304"
      ],
      "text/latex": [
       "0.481890304"
      ],
      "text/markdown": [
       "0.481890304"
      ],
      "text/plain": [
       "[1] 0.4818903"
      ]
     },
     "metadata": {},
     "output_type": "display_data"
    }
   ],
   "source": [
    "0.784*0.784*0.784"
   ]
  },
  {
   "cell_type": "markdown",
   "metadata": {},
   "source": [
    "La probabilidad ed reprobar después de 4 intentos es:"
   ]
  },
  {
   "cell_type": "code",
   "execution_count": 10,
   "metadata": {},
   "outputs": [
    {
     "data": {
      "text/html": [
       "0.377801998336"
      ],
      "text/latex": [
       "0.377801998336"
      ],
      "text/markdown": [
       "0.377801998336"
      ],
      "text/plain": [
       "[1] 0.377802"
      ]
     },
     "metadata": {},
     "output_type": "display_data"
    }
   ],
   "source": [
    "0.784*0.784*0.784*0.784"
   ]
  },
  {
   "cell_type": "markdown",
   "metadata": {},
   "source": [
    "La probabilidad ed reprobar después de 5 intentos es:"
   ]
  },
  {
   "cell_type": "code",
   "execution_count": 11,
   "metadata": {},
   "outputs": [
    {
     "data": {
      "text/html": [
       "0.296196766695424"
      ],
      "text/latex": [
       "0.296196766695424"
      ],
      "text/markdown": [
       "0.296196766695424"
      ],
      "text/plain": [
       "[1] 0.2961968"
      ]
     },
     "metadata": {},
     "output_type": "display_data"
    }
   ],
   "source": [
    "0.784*0.784*0.784*0.784*0.784"
   ]
  },
  {
   "cell_type": "markdown",
   "metadata": {},
   "source": [
    "De acuerdo a lo anterior se observa que en el tercer intento la probabilidad de reprobar es de 0.482, por lo tanto la probabilidad de aprobar sería de 1-0.482, siendo el resultado de:"
   ]
  },
  {
   "cell_type": "code",
   "execution_count": 13,
   "metadata": {},
   "outputs": [
    {
     "data": {
      "text/html": [
       "0.518"
      ],
      "text/latex": [
       "0.518"
      ],
      "text/markdown": [
       "0.518"
      ],
      "text/plain": [
       "[1] 0.518"
      ]
     },
     "metadata": {},
     "output_type": "display_data"
    }
   ],
   "source": [
    "1-0.482"
   ]
  },
  {
   "cell_type": "markdown",
   "metadata": {},
   "source": [
    "Conclusión: Se requieren de 3 intentos para tener una probabilidad de éxito mayor al 50%"
   ]
  }
 ],
 "metadata": {
  "kernelspec": {
   "display_name": "R",
   "language": "R",
   "name": "ir"
  },
  "language_info": {
   "codemirror_mode": "r",
   "file_extension": ".r",
   "mimetype": "text/x-r-source",
   "name": "R",
   "pygments_lexer": "r",
   "version": "3.6.1"
  }
 },
 "nbformat": 4,
 "nbformat_minor": 2
}
