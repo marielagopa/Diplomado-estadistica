{
 "cells": [
  {
   "cell_type": "markdown",
   "metadata": {},
   "source": [
    "# RANGO DE SIGNIFICANCIA"
   ]
  },
  {
   "cell_type": "code",
   "execution_count": 73,
   "metadata": {},
   "outputs": [],
   "source": [
    "datos <- read.csv(\"ENARM EXAMEN.csv\")"
   ]
  },
  {
   "cell_type": "code",
   "execution_count": 74,
   "metadata": {},
   "outputs": [
    {
     "data": {
      "text/html": [
       "<table>\n",
       "<thead><tr><th scope=col>ENTIDAD.FEDERATIVA</th><th scope=col>FACULTAD.O.ESCUELA.DE.MEDICINA</th><th scope=col>SUSTENTANTES</th><th scope=col>SELECCIONADOS</th><th scope=col>PROMEDIO.GENERAL</th><th scope=col>AGNO</th></tr></thead>\n",
       "<tbody>\n",
       "\t<tr><td>AGUASCALIENTES                                             </td><td>UNIVERSIDAD AUTONOMA DE AGUASCALIENTES                     </td><td>239                                                        </td><td>84                                                         </td><td>67.52                                                      </td><td>2017                                                       </td></tr>\n",
       "\t<tr><td>AGUASCALIENTES                                             </td><td>UNIVERSIDAD CUAUHTEMOC AGUASCALIENTES                      </td><td> 72                                                        </td><td> 9                                                         </td><td>63.81                                                      </td><td>2017                                                       </td></tr>\n",
       "\t<tr><td>BAJA CALIFORNIA                                            </td><td>CENTRO DE ESTUDIOS UNIVERSITARIOS XOCHICALCO ENSENADA      </td><td>247                                                        </td><td>48                                                         </td><td>61.16                                                      </td><td>2017                                                       </td></tr>\n",
       "\t<tr><td>BAJA CALIFORNIA                                            </td><td>CENTRO DE ESTUDIOS UNIVERSITARIOS XOCHICALCO TIJUANA       </td><td>152                                                        </td><td>30                                                         </td><td>62.48                                                      </td><td>2017                                                       </td></tr>\n",
       "\t<tr><td>BAJA CALIFORNIA                                            </td><td>UNIVERSIDAD AUTONOMA DE BAJA CALIFORNIA VALLE DE LAS PALMAS</td><td>135                                                        </td><td>16                                                         </td><td>62.70                                                      </td><td>2017                                                       </td></tr>\n",
       "\t<tr><td>BAJA CALIFORNIA                                            </td><td>UNIVERSIDAD AUTONOMA DE BAJA CALIFORNIA ENSENADA           </td><td>188                                                        </td><td>55                                                         </td><td>64.88                                                      </td><td>2017                                                       </td></tr>\n",
       "</tbody>\n",
       "</table>\n"
      ],
      "text/latex": [
       "\\begin{tabular}{r|llllll}\n",
       " ENTIDAD.FEDERATIVA & FACULTAD.O.ESCUELA.DE.MEDICINA & SUSTENTANTES & SELECCIONADOS & PROMEDIO.GENERAL & AGNO\\\\\n",
       "\\hline\n",
       "\t AGUASCALIENTES                                              & UNIVERSIDAD AUTONOMA DE AGUASCALIENTES                      & 239                                                         & 84                                                          & 67.52                                                       & 2017                                                       \\\\\n",
       "\t AGUASCALIENTES                                              & UNIVERSIDAD CUAUHTEMOC AGUASCALIENTES                       &  72                                                         &  9                                                          & 63.81                                                       & 2017                                                       \\\\\n",
       "\t BAJA CALIFORNIA                                             & CENTRO DE ESTUDIOS UNIVERSITARIOS XOCHICALCO ENSENADA       & 247                                                         & 48                                                          & 61.16                                                       & 2017                                                       \\\\\n",
       "\t BAJA CALIFORNIA                                             & CENTRO DE ESTUDIOS UNIVERSITARIOS XOCHICALCO TIJUANA        & 152                                                         & 30                                                          & 62.48                                                       & 2017                                                       \\\\\n",
       "\t BAJA CALIFORNIA                                             & UNIVERSIDAD AUTONOMA DE BAJA CALIFORNIA VALLE DE LAS PALMAS & 135                                                         & 16                                                          & 62.70                                                       & 2017                                                       \\\\\n",
       "\t BAJA CALIFORNIA                                             & UNIVERSIDAD AUTONOMA DE BAJA CALIFORNIA ENSENADA            & 188                                                         & 55                                                          & 64.88                                                       & 2017                                                       \\\\\n",
       "\\end{tabular}\n"
      ],
      "text/markdown": [
       "\n",
       "| ENTIDAD.FEDERATIVA | FACULTAD.O.ESCUELA.DE.MEDICINA | SUSTENTANTES | SELECCIONADOS | PROMEDIO.GENERAL | AGNO |\n",
       "|---|---|---|---|---|---|\n",
       "| AGUASCALIENTES                                              | UNIVERSIDAD AUTONOMA DE AGUASCALIENTES                      | 239                                                         | 84                                                          | 67.52                                                       | 2017                                                        |\n",
       "| AGUASCALIENTES                                              | UNIVERSIDAD CUAUHTEMOC AGUASCALIENTES                       |  72                                                         |  9                                                          | 63.81                                                       | 2017                                                        |\n",
       "| BAJA CALIFORNIA                                             | CENTRO DE ESTUDIOS UNIVERSITARIOS XOCHICALCO ENSENADA       | 247                                                         | 48                                                          | 61.16                                                       | 2017                                                        |\n",
       "| BAJA CALIFORNIA                                             | CENTRO DE ESTUDIOS UNIVERSITARIOS XOCHICALCO TIJUANA        | 152                                                         | 30                                                          | 62.48                                                       | 2017                                                        |\n",
       "| BAJA CALIFORNIA                                             | UNIVERSIDAD AUTONOMA DE BAJA CALIFORNIA VALLE DE LAS PALMAS | 135                                                         | 16                                                          | 62.70                                                       | 2017                                                        |\n",
       "| BAJA CALIFORNIA                                             | UNIVERSIDAD AUTONOMA DE BAJA CALIFORNIA ENSENADA            | 188                                                         | 55                                                          | 64.88                                                       | 2017                                                        |\n",
       "\n"
      ],
      "text/plain": [
       "  ENTIDAD.FEDERATIVA\n",
       "1 AGUASCALIENTES    \n",
       "2 AGUASCALIENTES    \n",
       "3 BAJA CALIFORNIA   \n",
       "4 BAJA CALIFORNIA   \n",
       "5 BAJA CALIFORNIA   \n",
       "6 BAJA CALIFORNIA   \n",
       "  FACULTAD.O.ESCUELA.DE.MEDICINA                              SUSTENTANTES\n",
       "1 UNIVERSIDAD AUTONOMA DE AGUASCALIENTES                      239         \n",
       "2 UNIVERSIDAD CUAUHTEMOC AGUASCALIENTES                        72         \n",
       "3 CENTRO DE ESTUDIOS UNIVERSITARIOS XOCHICALCO ENSENADA       247         \n",
       "4 CENTRO DE ESTUDIOS UNIVERSITARIOS XOCHICALCO TIJUANA        152         \n",
       "5 UNIVERSIDAD AUTONOMA DE BAJA CALIFORNIA VALLE DE LAS PALMAS 135         \n",
       "6 UNIVERSIDAD AUTONOMA DE BAJA CALIFORNIA ENSENADA            188         \n",
       "  SELECCIONADOS PROMEDIO.GENERAL AGNO\n",
       "1 84            67.52            2017\n",
       "2  9            63.81            2017\n",
       "3 48            61.16            2017\n",
       "4 30            62.48            2017\n",
       "5 16            62.70            2017\n",
       "6 55            64.88            2017"
      ]
     },
     "metadata": {},
     "output_type": "display_data"
    }
   ],
   "source": [
    "head (datos)"
   ]
  },
  {
   "cell_type": "code",
   "execution_count": 76,
   "metadata": {},
   "outputs": [],
   "source": [
    "datos$efi <- datos$SELECCIONADOS / datos$SUSTENTANTES"
   ]
  },
  {
   "cell_type": "code",
   "execution_count": 77,
   "metadata": {},
   "outputs": [
    {
     "data": {
      "text/html": [
       "<table>\n",
       "<thead><tr><th scope=col>ENTIDAD.FEDERATIVA</th><th scope=col>FACULTAD.O.ESCUELA.DE.MEDICINA</th><th scope=col>SUSTENTANTES</th><th scope=col>SELECCIONADOS</th><th scope=col>PROMEDIO.GENERAL</th><th scope=col>AGNO</th><th scope=col>efi</th></tr></thead>\n",
       "<tbody>\n",
       "\t<tr><td>AGUASCALIENTES                                             </td><td>UNIVERSIDAD AUTONOMA DE AGUASCALIENTES                     </td><td>239                                                        </td><td>84                                                         </td><td>67.52                                                      </td><td>2017                                                       </td><td>0.3514644                                                  </td></tr>\n",
       "\t<tr><td>AGUASCALIENTES                                             </td><td>UNIVERSIDAD CUAUHTEMOC AGUASCALIENTES                      </td><td> 72                                                        </td><td> 9                                                         </td><td>63.81                                                      </td><td>2017                                                       </td><td>0.1250000                                                  </td></tr>\n",
       "\t<tr><td>BAJA CALIFORNIA                                            </td><td>CENTRO DE ESTUDIOS UNIVERSITARIOS XOCHICALCO ENSENADA      </td><td>247                                                        </td><td>48                                                         </td><td>61.16                                                      </td><td>2017                                                       </td><td>0.1943320                                                  </td></tr>\n",
       "\t<tr><td>BAJA CALIFORNIA                                            </td><td>CENTRO DE ESTUDIOS UNIVERSITARIOS XOCHICALCO TIJUANA       </td><td>152                                                        </td><td>30                                                         </td><td>62.48                                                      </td><td>2017                                                       </td><td>0.1973684                                                  </td></tr>\n",
       "\t<tr><td>BAJA CALIFORNIA                                            </td><td>UNIVERSIDAD AUTONOMA DE BAJA CALIFORNIA VALLE DE LAS PALMAS</td><td>135                                                        </td><td>16                                                         </td><td>62.70                                                      </td><td>2017                                                       </td><td>0.1185185                                                  </td></tr>\n",
       "\t<tr><td>BAJA CALIFORNIA                                            </td><td>UNIVERSIDAD AUTONOMA DE BAJA CALIFORNIA ENSENADA           </td><td>188                                                        </td><td>55                                                         </td><td>64.88                                                      </td><td>2017                                                       </td><td>0.2925532                                                  </td></tr>\n",
       "</tbody>\n",
       "</table>\n"
      ],
      "text/latex": [
       "\\begin{tabular}{r|lllllll}\n",
       " ENTIDAD.FEDERATIVA & FACULTAD.O.ESCUELA.DE.MEDICINA & SUSTENTANTES & SELECCIONADOS & PROMEDIO.GENERAL & AGNO & efi\\\\\n",
       "\\hline\n",
       "\t AGUASCALIENTES                                              & UNIVERSIDAD AUTONOMA DE AGUASCALIENTES                      & 239                                                         & 84                                                          & 67.52                                                       & 2017                                                        & 0.3514644                                                  \\\\\n",
       "\t AGUASCALIENTES                                              & UNIVERSIDAD CUAUHTEMOC AGUASCALIENTES                       &  72                                                         &  9                                                          & 63.81                                                       & 2017                                                        & 0.1250000                                                  \\\\\n",
       "\t BAJA CALIFORNIA                                             & CENTRO DE ESTUDIOS UNIVERSITARIOS XOCHICALCO ENSENADA       & 247                                                         & 48                                                          & 61.16                                                       & 2017                                                        & 0.1943320                                                  \\\\\n",
       "\t BAJA CALIFORNIA                                             & CENTRO DE ESTUDIOS UNIVERSITARIOS XOCHICALCO TIJUANA        & 152                                                         & 30                                                          & 62.48                                                       & 2017                                                        & 0.1973684                                                  \\\\\n",
       "\t BAJA CALIFORNIA                                             & UNIVERSIDAD AUTONOMA DE BAJA CALIFORNIA VALLE DE LAS PALMAS & 135                                                         & 16                                                          & 62.70                                                       & 2017                                                        & 0.1185185                                                  \\\\\n",
       "\t BAJA CALIFORNIA                                             & UNIVERSIDAD AUTONOMA DE BAJA CALIFORNIA ENSENADA            & 188                                                         & 55                                                          & 64.88                                                       & 2017                                                        & 0.2925532                                                  \\\\\n",
       "\\end{tabular}\n"
      ],
      "text/markdown": [
       "\n",
       "| ENTIDAD.FEDERATIVA | FACULTAD.O.ESCUELA.DE.MEDICINA | SUSTENTANTES | SELECCIONADOS | PROMEDIO.GENERAL | AGNO | efi |\n",
       "|---|---|---|---|---|---|---|\n",
       "| AGUASCALIENTES                                              | UNIVERSIDAD AUTONOMA DE AGUASCALIENTES                      | 239                                                         | 84                                                          | 67.52                                                       | 2017                                                        | 0.3514644                                                   |\n",
       "| AGUASCALIENTES                                              | UNIVERSIDAD CUAUHTEMOC AGUASCALIENTES                       |  72                                                         |  9                                                          | 63.81                                                       | 2017                                                        | 0.1250000                                                   |\n",
       "| BAJA CALIFORNIA                                             | CENTRO DE ESTUDIOS UNIVERSITARIOS XOCHICALCO ENSENADA       | 247                                                         | 48                                                          | 61.16                                                       | 2017                                                        | 0.1943320                                                   |\n",
       "| BAJA CALIFORNIA                                             | CENTRO DE ESTUDIOS UNIVERSITARIOS XOCHICALCO TIJUANA        | 152                                                         | 30                                                          | 62.48                                                       | 2017                                                        | 0.1973684                                                   |\n",
       "| BAJA CALIFORNIA                                             | UNIVERSIDAD AUTONOMA DE BAJA CALIFORNIA VALLE DE LAS PALMAS | 135                                                         | 16                                                          | 62.70                                                       | 2017                                                        | 0.1185185                                                   |\n",
       "| BAJA CALIFORNIA                                             | UNIVERSIDAD AUTONOMA DE BAJA CALIFORNIA ENSENADA            | 188                                                         | 55                                                          | 64.88                                                       | 2017                                                        | 0.2925532                                                   |\n",
       "\n"
      ],
      "text/plain": [
       "  ENTIDAD.FEDERATIVA\n",
       "1 AGUASCALIENTES    \n",
       "2 AGUASCALIENTES    \n",
       "3 BAJA CALIFORNIA   \n",
       "4 BAJA CALIFORNIA   \n",
       "5 BAJA CALIFORNIA   \n",
       "6 BAJA CALIFORNIA   \n",
       "  FACULTAD.O.ESCUELA.DE.MEDICINA                              SUSTENTANTES\n",
       "1 UNIVERSIDAD AUTONOMA DE AGUASCALIENTES                      239         \n",
       "2 UNIVERSIDAD CUAUHTEMOC AGUASCALIENTES                        72         \n",
       "3 CENTRO DE ESTUDIOS UNIVERSITARIOS XOCHICALCO ENSENADA       247         \n",
       "4 CENTRO DE ESTUDIOS UNIVERSITARIOS XOCHICALCO TIJUANA        152         \n",
       "5 UNIVERSIDAD AUTONOMA DE BAJA CALIFORNIA VALLE DE LAS PALMAS 135         \n",
       "6 UNIVERSIDAD AUTONOMA DE BAJA CALIFORNIA ENSENADA            188         \n",
       "  SELECCIONADOS PROMEDIO.GENERAL AGNO efi      \n",
       "1 84            67.52            2017 0.3514644\n",
       "2  9            63.81            2017 0.1250000\n",
       "3 48            61.16            2017 0.1943320\n",
       "4 30            62.48            2017 0.1973684\n",
       "5 16            62.70            2017 0.1185185\n",
       "6 55            64.88            2017 0.2925532"
      ]
     },
     "metadata": {},
     "output_type": "display_data"
    }
   ],
   "source": [
    "head(datos)"
   ]
  },
  {
   "cell_type": "code",
   "execution_count": 81,
   "metadata": {},
   "outputs": [
    {
     "data": {
      "image/png": "[encoded data removed]",
      "text/plain": [
       "Plot with title \"ENARM 2018\""
      ]
     },
     "metadata": {},
     "output_type": "display_data"
    }
   ],
   "source": [
    "hist(datos$efi, labels = T, col = \"black\", border = \"white\", ylim = c(0,500), ylab = \"Frecuencia\", xlab = \"Eficiencia\", main = \"ENARM 2018\")"
   ]
  },
  {
   "cell_type": "code",
   "execution_count": 99,
   "metadata": {},
   "outputs": [],
   "source": [
    "archi <- read.csv(\"2019.csv\")"
   ]
  },
  {
   "cell_type": "code",
   "execution_count": 100,
   "metadata": {},
   "outputs": [
    {
     "data": {
      "text/html": [
       "<table>\n",
       "<thead><tr><th scope=col>ï..Entidad.federativa</th><th scope=col>Facultad.o.Escuela.de.Medicina</th><th scope=col>Sustentantes</th><th scope=col>Seleccionados</th><th scope=col>Promedio.general</th></tr></thead>\n",
       "<tbody>\n",
       "\t<tr><td>AGUASCALIENTES                                 </td><td>UNIV. AUT. DE AGUASCALIENTES                   </td><td>277                                            </td><td>122                                            </td><td>66.781                                         </td></tr>\n",
       "\t<tr><td>AGUASCALIENTES                                 </td><td>UNIV. CUAUHTEMOC - CAMPUS AGUASCALIENTES       </td><td> 63                                            </td><td> 21                                            </td><td>62.571                                         </td></tr>\n",
       "\t<tr><td>BAJA CALIFORNIA                                </td><td>CENTRO EST. UNIV. XOCHICALCO, U. ENSENADA      </td><td>237                                            </td><td> 38                                            </td><td>58.180                                         </td></tr>\n",
       "\t<tr><td>BAJA CALIFORNIA                                </td><td>CENTRO EST. UNIV. XOCHICALCO, U. TIJUANA       </td><td>175                                            </td><td> 29                                            </td><td>61.482                                         </td></tr>\n",
       "\t<tr><td>BAJA CALIFORNIA                                </td><td>UNIV. AUT. DE B.C. - CAMPUS VALLE DE LAS PALMAS</td><td>182                                            </td><td> 37                                            </td><td>61.430                                         </td></tr>\n",
       "\t<tr><td>BAJA CALIFORNIA                                </td><td>UNIV. AUT. DE B.C., U. ENSENADA                </td><td>219                                            </td><td> 52                                            </td><td>61.996                                         </td></tr>\n",
       "</tbody>\n",
       "</table>\n"
      ],
      "text/latex": [
       "\\begin{tabular}{r|lllll}\n",
       " ï..Entidad.federativa & Facultad.o.Escuela.de.Medicina & Sustentantes & Seleccionados & Promedio.general\\\\\n",
       "\\hline\n",
       "\t AGUASCALIENTES                                  & UNIV. AUT. DE AGUASCALIENTES                    & 277                                             & 122                                             & 66.781                                         \\\\\n",
       "\t AGUASCALIENTES                                  & UNIV. CUAUHTEMOC - CAMPUS AGUASCALIENTES        &  63                                             &  21                                             & 62.571                                         \\\\\n",
       "\t BAJA CALIFORNIA                                 & CENTRO EST. UNIV. XOCHICALCO, U. ENSENADA       & 237                                             &  38                                             & 58.180                                         \\\\\n",
       "\t BAJA CALIFORNIA                                 & CENTRO EST. UNIV. XOCHICALCO, U. TIJUANA        & 175                                             &  29                                             & 61.482                                         \\\\\n",
       "\t BAJA CALIFORNIA                                 & UNIV. AUT. DE B.C. - CAMPUS VALLE DE LAS PALMAS & 182                                             &  37                                             & 61.430                                         \\\\\n",
       "\t BAJA CALIFORNIA                                 & UNIV. AUT. DE B.C., U. ENSENADA                 & 219                                             &  52                                             & 61.996                                         \\\\\n",
       "\\end{tabular}\n"
      ],
      "text/markdown": [
       "\n",
       "| ï..Entidad.federativa | Facultad.o.Escuela.de.Medicina | Sustentantes | Seleccionados | Promedio.general |\n",
       "|---|---|---|---|---|\n",
       "| AGUASCALIENTES                                  | UNIV. AUT. DE AGUASCALIENTES                    | 277                                             | 122                                             | 66.781                                          |\n",
       "| AGUASCALIENTES                                  | UNIV. CUAUHTEMOC - CAMPUS AGUASCALIENTES        |  63                                             |  21                                             | 62.571                                          |\n",
       "| BAJA CALIFORNIA                                 | CENTRO EST. UNIV. XOCHICALCO, U. ENSENADA       | 237                                             |  38                                             | 58.180                                          |\n",
       "| BAJA CALIFORNIA                                 | CENTRO EST. UNIV. XOCHICALCO, U. TIJUANA        | 175                                             |  29                                             | 61.482                                          |\n",
       "| BAJA CALIFORNIA                                 | UNIV. AUT. DE B.C. - CAMPUS VALLE DE LAS PALMAS | 182                                             |  37                                             | 61.430                                          |\n",
       "| BAJA CALIFORNIA                                 | UNIV. AUT. DE B.C., U. ENSENADA                 | 219                                             |  52                                             | 61.996                                          |\n",
       "\n"
      ],
      "text/plain": [
       "  ï..Entidad.federativa Facultad.o.Escuela.de.Medicina                 \n",
       "1 AGUASCALIENTES        UNIV. AUT. DE AGUASCALIENTES                   \n",
       "2 AGUASCALIENTES        UNIV. CUAUHTEMOC - CAMPUS AGUASCALIENTES       \n",
       "3 BAJA CALIFORNIA       CENTRO EST. UNIV. XOCHICALCO, U. ENSENADA      \n",
       "4 BAJA CALIFORNIA       CENTRO EST. UNIV. XOCHICALCO, U. TIJUANA       \n",
       "5 BAJA CALIFORNIA       UNIV. AUT. DE B.C. - CAMPUS VALLE DE LAS PALMAS\n",
       "6 BAJA CALIFORNIA       UNIV. AUT. DE B.C., U. ENSENADA                \n",
       "  Sustentantes Seleccionados Promedio.general\n",
       "1 277          122           66.781          \n",
       "2  63           21           62.571          \n",
       "3 237           38           58.180          \n",
       "4 175           29           61.482          \n",
       "5 182           37           61.430          \n",
       "6 219           52           61.996          "
      ]
     },
     "metadata": {},
     "output_type": "display_data"
    }
   ],
   "source": [
    "head (archi)"
   ]
  },
  {
   "cell_type": "markdown",
   "metadata": {},
   "source": [
    "$$ efi = \\dfrac{seleccionados}{sustentantes} $$"
   ]
  },
  {
   "cell_type": "code",
   "execution_count": 101,
   "metadata": {},
   "outputs": [],
   "source": [
    "archi$efi <- archi$Seleccionados / archi$Sustentantes"
   ]
  },
  {
   "cell_type": "code",
   "execution_count": 102,
   "metadata": {},
   "outputs": [
    {
     "data": {
      "text/html": [
       "<table>\n",
       "<thead><tr><th scope=col>ï..Entidad.federativa</th><th scope=col>Facultad.o.Escuela.de.Medicina</th><th scope=col>Sustentantes</th><th scope=col>Seleccionados</th><th scope=col>Promedio.general</th><th scope=col>efi</th></tr></thead>\n",
       "<tbody>\n",
       "\t<tr><td>AGUASCALIENTES                                 </td><td>UNIV. AUT. DE AGUASCALIENTES                   </td><td>277                                            </td><td>122                                            </td><td>66.781                                         </td><td>0.4404332                                      </td></tr>\n",
       "\t<tr><td>AGUASCALIENTES                                 </td><td>UNIV. CUAUHTEMOC - CAMPUS AGUASCALIENTES       </td><td> 63                                            </td><td> 21                                            </td><td>62.571                                         </td><td>0.3333333                                      </td></tr>\n",
       "\t<tr><td>BAJA CALIFORNIA                                </td><td>CENTRO EST. UNIV. XOCHICALCO, U. ENSENADA      </td><td>237                                            </td><td> 38                                            </td><td>58.180                                         </td><td>0.1603376                                      </td></tr>\n",
       "\t<tr><td>BAJA CALIFORNIA                                </td><td>CENTRO EST. UNIV. XOCHICALCO, U. TIJUANA       </td><td>175                                            </td><td> 29                                            </td><td>61.482                                         </td><td>0.1657143                                      </td></tr>\n",
       "\t<tr><td>BAJA CALIFORNIA                                </td><td>UNIV. AUT. DE B.C. - CAMPUS VALLE DE LAS PALMAS</td><td>182                                            </td><td> 37                                            </td><td>61.430                                         </td><td>0.2032967                                      </td></tr>\n",
       "\t<tr><td>BAJA CALIFORNIA                                </td><td>UNIV. AUT. DE B.C., U. ENSENADA                </td><td>219                                            </td><td> 52                                            </td><td>61.996                                         </td><td>0.2374429                                      </td></tr>\n",
       "</tbody>\n",
       "</table>\n"
      ],
      "text/latex": [
       "\\begin{tabular}{r|llllll}\n",
       " ï..Entidad.federativa & Facultad.o.Escuela.de.Medicina & Sustentantes & Seleccionados & Promedio.general & efi\\\\\n",
       "\\hline\n",
       "\t AGUASCALIENTES                                  & UNIV. AUT. DE AGUASCALIENTES                    & 277                                             & 122                                             & 66.781                                          & 0.4404332                                      \\\\\n",
       "\t AGUASCALIENTES                                  & UNIV. CUAUHTEMOC - CAMPUS AGUASCALIENTES        &  63                                             &  21                                             & 62.571                                          & 0.3333333                                      \\\\\n",
       "\t BAJA CALIFORNIA                                 & CENTRO EST. UNIV. XOCHICALCO, U. ENSENADA       & 237                                             &  38                                             & 58.180                                          & 0.1603376                                      \\\\\n",
       "\t BAJA CALIFORNIA                                 & CENTRO EST. UNIV. XOCHICALCO, U. TIJUANA        & 175                                             &  29                                             & 61.482                                          & 0.1657143                                      \\\\\n",
       "\t BAJA CALIFORNIA                                 & UNIV. AUT. DE B.C. - CAMPUS VALLE DE LAS PALMAS & 182                                             &  37                                             & 61.430                                          & 0.2032967                                      \\\\\n",
       "\t BAJA CALIFORNIA                                 & UNIV. AUT. DE B.C., U. ENSENADA                 & 219                                             &  52                                             & 61.996                                          & 0.2374429                                      \\\\\n",
       "\\end{tabular}\n"
      ],
      "text/markdown": [
       "\n",
       "| ï..Entidad.federativa | Facultad.o.Escuela.de.Medicina | Sustentantes | Seleccionados | Promedio.general | efi |\n",
       "|---|---|---|---|---|---|\n",
       "| AGUASCALIENTES                                  | UNIV. AUT. DE AGUASCALIENTES                    | 277                                             | 122                                             | 66.781                                          | 0.4404332                                       |\n",
       "| AGUASCALIENTES                                  | UNIV. CUAUHTEMOC - CAMPUS AGUASCALIENTES        |  63                                             |  21                                             | 62.571                                          | 0.3333333                                       |\n",
       "| BAJA CALIFORNIA                                 | CENTRO EST. UNIV. XOCHICALCO, U. ENSENADA       | 237                                             |  38                                             | 58.180                                          | 0.1603376                                       |\n",
       "| BAJA CALIFORNIA                                 | CENTRO EST. UNIV. XOCHICALCO, U. TIJUANA        | 175                                             |  29                                             | 61.482                                          | 0.1657143                                       |\n",
       "| BAJA CALIFORNIA                                 | UNIV. AUT. DE B.C. - CAMPUS VALLE DE LAS PALMAS | 182                                             |  37                                             | 61.430                                          | 0.2032967                                       |\n",
       "| BAJA CALIFORNIA                                 | UNIV. AUT. DE B.C., U. ENSENADA                 | 219                                             |  52                                             | 61.996                                          | 0.2374429                                       |\n",
       "\n"
      ],
      "text/plain": [
       "  ï..Entidad.federativa Facultad.o.Escuela.de.Medicina                 \n",
       "1 AGUASCALIENTES        UNIV. AUT. DE AGUASCALIENTES                   \n",
       "2 AGUASCALIENTES        UNIV. CUAUHTEMOC - CAMPUS AGUASCALIENTES       \n",
       "3 BAJA CALIFORNIA       CENTRO EST. UNIV. XOCHICALCO, U. ENSENADA      \n",
       "4 BAJA CALIFORNIA       CENTRO EST. UNIV. XOCHICALCO, U. TIJUANA       \n",
       "5 BAJA CALIFORNIA       UNIV. AUT. DE B.C. - CAMPUS VALLE DE LAS PALMAS\n",
       "6 BAJA CALIFORNIA       UNIV. AUT. DE B.C., U. ENSENADA                \n",
       "  Sustentantes Seleccionados Promedio.general efi      \n",
       "1 277          122           66.781           0.4404332\n",
       "2  63           21           62.571           0.3333333\n",
       "3 237           38           58.180           0.1603376\n",
       "4 175           29           61.482           0.1657143\n",
       "5 182           37           61.430           0.2032967\n",
       "6 219           52           61.996           0.2374429"
      ]
     },
     "metadata": {},
     "output_type": "display_data"
    }
   ],
   "source": [
    "head(archi)"
   ]
  },
  {
   "cell_type": "code",
   "execution_count": 105,
   "metadata": {
    "scrolled": true
   },
   "outputs": [
    {
     "data": {
      "image/png": "[encoded data removed]",
      "text/plain": [
       "Plot with title \"EXAMEN ENARM 2019\""
      ]
     },
     "metadata": {},
     "output_type": "display_data"
    }
   ],
   "source": [
    "hist(archi$efi, labels = T, col = \"black\", border = \"white\", ylim = c(0,50), ylab = \"Frecuencia\", xlab = \"Eficiencia\", main = \"EXAMEN ENARM 2019\")"
   ]
  },
  {
   "cell_type": "markdown",
   "metadata": {},
   "source": [
    "DE ACUERDO AL HISTOGRAMA REALIZADO, SE DETERMINA QUE LA DISTRIBUCIÓN DE LOS DATOS DE EFICIENCIA HASTA EL 2018 Y LOS DEL AÑO 2019, PRESENTA UN COMPORTAMIENTO NORMAL CON ASIMETRÍA POSITIVA; ES DECIR, LA MAYORÍA DE LOS VALORES ESTÁN SEPARADOS DE LA MEDIA A LA DERECHA."
   ]
  },
  {
   "cell_type": "code",
   "execution_count": 113,
   "metadata": {},
   "outputs": [
    {
     "data": {
      "text/html": [
       "0.24"
      ],
      "text/latex": [
       "0.24"
      ],
      "text/markdown": [
       "0.24"
      ],
      "text/plain": [
       "[1] 0.24"
      ]
     },
     "metadata": {},
     "output_type": "display_data"
    }
   ],
   "source": [
    "round(mean(datos$efi, na.rm = TRUE),2)"
   ]
  },
  {
   "cell_type": "code",
   "execution_count": 114,
   "metadata": {},
   "outputs": [
    {
     "data": {
      "text/html": [
       "0.15"
      ],
      "text/latex": [
       "0.15"
      ],
      "text/markdown": [
       "0.15"
      ],
      "text/plain": [
       "[1] 0.15"
      ]
     },
     "metadata": {},
     "output_type": "display_data"
    }
   ],
   "source": [
    "round(sd(datos$efi, na.rm = TRUE),2)"
   ]
  },
  {
   "cell_type": "markdown",
   "metadata": {},
   "source": [
    "$$ rango=\\mu \\pm 2\\sigma$$"
   ]
  },
  {
   "cell_type": "code",
   "execution_count": 115,
   "metadata": {},
   "outputs": [
    {
     "data": {
      "text/html": [
       "0.54"
      ],
      "text/latex": [
       "0.54"
      ],
      "text/markdown": [
       "0.54"
      ],
      "text/plain": [
       "[1] 0.54"
      ]
     },
     "metadata": {},
     "output_type": "display_data"
    }
   ],
   "source": [
    "0.24+2*0.15"
   ]
  },
  {
   "cell_type": "code",
   "execution_count": 116,
   "metadata": {},
   "outputs": [
    {
     "data": {
      "text/html": [
       "-0.06"
      ],
      "text/latex": [
       "-0.06"
      ],
      "text/markdown": [
       "-0.06"
      ],
      "text/plain": [
       "[1] -0.06"
      ]
     },
     "metadata": {},
     "output_type": "display_data"
    }
   ],
   "source": [
    "0.24-2*0.15"
   ]
  },
  {
   "cell_type": "code",
   "execution_count": 117,
   "metadata": {},
   "outputs": [
    {
     "data": {
      "text/html": [
       "0.21"
      ],
      "text/latex": [
       "0.21"
      ],
      "text/markdown": [
       "0.21"
      ],
      "text/plain": [
       "[1] 0.21"
      ]
     },
     "metadata": {},
     "output_type": "display_data"
    }
   ],
   "source": [
    "round(mean(archi$efi, na.rm = TRUE),2)"
   ]
  },
  {
   "cell_type": "code",
   "execution_count": 118,
   "metadata": {},
   "outputs": [
    {
     "data": {
      "text/html": [
       "0.12"
      ],
      "text/latex": [
       "0.12"
      ],
      "text/markdown": [
       "0.12"
      ],
      "text/plain": [
       "[1] 0.12"
      ]
     },
     "metadata": {},
     "output_type": "display_data"
    }
   ],
   "source": [
    "round(sd(archi$efi, na.rm = TRUE),2)"
   ]
  },
  {
   "cell_type": "markdown",
   "metadata": {},
   "source": [
    "UNA VEZ REALIZADO EL CÁLCULO DEL RANGO DE SIGNIFICANCIA, DADO QUE LA MEDIA CALCULADA A PARTIR DE LOS DATOS DEL 2019 SE ENCUENTRA DENTRO DEL RENGO CALCULADO HASTA EL 2018, SE CONCLUYE QUE LA ACUSACIÓN ES FALSA."
   ]
  },
  {
   "cell_type": "code",
   "execution_count": null,
   "metadata": {},
   "outputs": [],
   "source": []
  },
  {
   "cell_type": "code",
   "execution_count": null,
   "metadata": {},
   "outputs": [],
   "source": []
  },
  {
   "cell_type": "code",
   "execution_count": null,
   "metadata": {},
   "outputs": [],
   "source": []
  },
  {
   "cell_type": "code",
   "execution_count": null,
   "metadata": {},
   "outputs": [],
   "source": []
  },
  {
   "cell_type": "code",
   "execution_count": null,
   "metadata": {},
   "outputs": [],
   "source": []
  }
 ],
 "metadata": {
  "kernelspec": {
   "display_name": "R",
   "language": "R",
   "name": "ir"
  },
  "language_info": {
   "codemirror_mode": "r",
   "file_extension": ".r",
   "mimetype": "text/x-r-source",
   "name": "R",
   "pygments_lexer": "r",
   "version": "3.6.1"
  }
 },
 "nbformat": 4,
 "nbformat_minor": 2
}
